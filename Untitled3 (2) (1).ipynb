{
 "cells": [
  {
   "cell_type": "markdown",
   "metadata": {},
   "source": [
    "# Problem 1\n",
    "\n",
    "\n",
    "## Problem Statment:\n",
    "\n",
    "1. Python program to read the content of the file\n",
    "2. Python program to write the content into file\n",
    "3. Python program to write the content into file(Creation of the file should be done in runtime)"
   ]
  },
  {
   "cell_type": "code",
   "execution_count": 5,
   "metadata": {},
   "outputs": [
    {
     "data": {
      "text/plain": [
       "'hai'"
      ]
     },
     "execution_count": 5,
     "metadata": {},
     "output_type": "execute_result"
    }
   ],
   "source": [
    "def readfiledata(filename):\n",
    "    f=open(filename, 'r')\n",
    "    filedata=f.readline()\n",
    "    \n",
    "    f.close\n",
    "    return filedata\n",
    "readfiledata('Untitled Folder 1/untitled.txt')\n"
   ]
  },
  {
   "cell_type": "code",
   "execution_count": 6,
   "metadata": {},
   "outputs": [],
   "source": [
    "def writeintofile(filename):\n",
    "    with open(filename, 'r') as f:\n",
    "        #for line in f:\n",
    "            #print(line,end='')\n",
    "        print(f.read())\n",
    "    \n",
    "    return \n",
    "def writeintofile(filename,data):\n",
    "    with open(filename,'w') as f:\n",
    "        f.write(data)\n",
    "    return \n",
    "writeintofile('Untitled Folder 1/s.txt','datawritten')"
   ]
  },
  {
   "cell_type": "code",
   "execution_count": 8,
   "metadata": {},
   "outputs": [],
   "source": [
    "def writeintofile(filename):\n",
    "    with open(filename, 'r') as f:\n",
    "        #for line in f:\n",
    "            #print(line,end='')\n",
    "        print(f.read())\n",
    "    \n",
    "    return \n",
    "def writeintofile(filename,data,mode):\n",
    "    with open(filename,mode) as f:\n",
    "        f.write(data)\n",
    "    return \n",
    "writeintofile('Untitled Folder 1/s.txt','second line','a')"
   ]
  },
  {
   "cell_type": "markdown",
   "metadata": {},
   "source": [
    "# PROBLEM-2\n",
    "\n",
    "# Problem Statment:\n",
    "\n",
    "#### Define a function to genarate a marks data file for 1300 students such that each marks is entered in a new file . Marks range from range of 0 to 100(Inclusive) as random numbers  "
   ]
  },
  {
   "cell_type": "code",
   "execution_count": 4,
   "metadata": {},
   "outputs": [],
   "source": [
    "import random\n",
    "def generatemarksdata(n,filename):\n",
    "    with open(filename,'w') as marksfile:\n",
    "        for i in range(0,n):\n",
    "            marks=random.randint(0,101)\n",
    "            marksfile.write(str(marks)+'\\n')\n",
    "    return\n",
    "generatemarksdata(1300,'sample.txt')                            "
   ]
  },
  {
   "cell_type": "code",
   "execution_count": null,
   "metadata": {},
   "outputs": [],
   "source": []
  },
  {
   "cell_type": "markdown",
   "metadata": {},
   "source": [
    "## Problem 3:\n",
    "#### Problem Statment\n",
    "#### Generate a report on the marks data with the following indicators\n",
    "* Highest marks:\n",
    "* Lowest Mark:\n",
    "* Average Marks:\n",
    "* no of students with dist(>80):\n",
    "* no of students with firstclass(>60):\n",
    "* no of students with secondclass(>50):\n",
    "* no of students with thirdclass(>40):\n",
    "* no of students with dist(<40):\n"
   ]
  },
  {
   "cell_type": "code",
   "execution_count": 17,
   "metadata": {},
   "outputs": [
    {
     "name": "stdout",
     "output_type": "stream",
     "text": [
      "Enter username : \n",
      "nn\n",
      "Enter password : \n",
      "gffg\n"
     ]
    }
   ],
   "source": [
    "#Form Tutor Management System\n",
    "import csv\n",
    "import sys\n",
    "def main():\n",
    "    login()\n",
    "    \n",
    "def login():\n",
    "    username=\"joshi\"\n",
    "    password=\"1234\"\n",
    "    print(\"Enter username : \")\n",
    "    answer1=input()\n",
    "    print(\"Enter password : \")\n",
    "    answer2=input()\n",
    "    if answer1==username and answer2==password:\n",
    "        print(\"Welcome - Access Granted\")\n",
    "        menu()\n",
    "\n",
    "def menu():\n",
    "    print(\"************MAIN MENU**************\")\n",
    "    #time.sleep(1)\n",
    "    print()\n",
    "\n",
    "    choice = input(\"\"\"\n",
    "                      A: Enter Student details\n",
    "                      B: View Student details\n",
    "                      C: Search by ID number\n",
    "                      D: Produce Reports\n",
    "                      Q: Quit/Log Out\n",
    "\n",
    "                      Please enter your choice: \"\"\")\n",
    "\n",
    "    if choice == \"A\" or choice ==\"a\":\n",
    "        enterstudentdetails()\n",
    "    elif choice == \"B\" or choice ==\"b\":\n",
    "        viewstudentdetails()\n",
    "    elif choice == \"C\" or choice ==\"c\":\n",
    "        searchbyid()\n",
    "    elif choice==\"D\" or choice==\"d\":\n",
    "        producereports()\n",
    "    elif choice==\"Q\" or choice==\"q\":\n",
    "        sys.exit\n",
    "    else:\n",
    "        print(\"You must only select either A,B,C, or D.\")\n",
    "        print(\"Please try again\")\n",
    "        menu()\n",
    "\n",
    "def enterstudentdetails():\n",
    "    #user is prompted to input all the required fields\n",
    "    print(\"Enter id\")\n",
    "    id=input()\n",
    "    print(\"Enter first name\")\n",
    "    firstname=input()\n",
    "    print(\"Enter surname\")\n",
    "    surname=input()\n",
    "    print(\"Enter Date of Birth Format: dd/mm/yy\")\n",
    "    dob=input()\n",
    "    print(\"Enter first line of address\")\n",
    "    firstlineaddress=input()\n",
    "    print(\"Enter Postcode\")\n",
    "    postcode=input()\n",
    "    print(\"Enter Gender\")\n",
    "    gender=input()\n",
    "    print(\"Enter Tutor Group\")\n",
    "    tutorgroup=input()\n",
    "    print(\"Enter email address\")\n",
    "    email=input()\n",
    "    print(\"enter sub1\")\n",
    "    s1=input()\n",
    "    print(\"enter sub2\")\n",
    "    s2=input()\n",
    "    with open('studentfile.txt','a') as studentfile:\n",
    "        studentfileWriter=csv.writer(studentfile)\n",
    "        studentfileWriter.writerow([id,firstname,surname,dob,firstlineaddress,postcode,gender,tutorgroup,email,s1,s2])\n",
    "        print(\"Record has been written to file\")\n",
    "        studentfile.close()\n",
    "        menu()\n",
    "\n",
    "def viewstudentdetails():0\n",
    "    .\n",
    "#Open the file for reading\n",
    "    f=open(\"studentfile.txt\",\"r\",encoding=\"utf8\")\n",
    "    #Create a list called \"displaylist\" into which all the files lines are read in to....\n",
    "    displaylist=f.read()\n",
    "    #print the list (that now has the file details in it)\n",
    "    print(displaylist)\n",
    "    f.close()\n",
    "    menu()\n",
    "\n",
    "def searchbyid():\n",
    "    pass\n",
    "    #Teacher can input an ID number and display the relevant student's details\n",
    "\n",
    "def producereports():\n",
    "    pass\n",
    "    #Teacher can produce clever reports such as:\n",
    "    #a) list of names of males and email addresses (to email a reminder about boys football club)\n",
    "    #b) list of names of females in specific postcode (to remind them of a girls coding club in the area)\n",
    "    #c) list of all names, birthdays and addresses (to send out birthday cards!)\n",
    "    \n",
    "    \n",
    "    \n",
    "    \n",
    "    \n",
    "    \n",
    "    \n",
    "#the program is initiated, so to speak, here\n",
    "main()"
   ]
  },
  {
   "cell_type": "code",
   "execution_count": 70,
   "metadata": {},
   "outputs": [
    {
     "ename": "TypeError",
     "evalue": "'>=' not supported between instances of 'str' and 'int'",
     "output_type": "error",
     "traceback": [
      "\u001b[1;31m---------------------------------------------------------------------------\u001b[0m",
      "\u001b[1;31mTypeError\u001b[0m                                 Traceback (most recent call last)",
      "\u001b[1;32m<ipython-input-70-db4a391eacdd>\u001b[0m in \u001b[0;36m<module>\u001b[1;34m()\u001b[0m\n\u001b[0;32m     12\u001b[0m     \u001b[1;32mreturn\u001b[0m \u001b[0mmark\u001b[0m\u001b[1;33m>=\u001b[0m\u001b[1;36m80\u001b[0m\u001b[1;33m\u001b[0m\u001b[0m\n\u001b[0;32m     13\u001b[0m \u001b[1;33m\u001b[0m\u001b[0m\n\u001b[1;32m---> 14\u001b[1;33m \u001b[0mdis\u001b[0m\u001b[1;33m=\u001b[0m\u001b[0msum\u001b[0m\u001b[1;33m(\u001b[0m\u001b[0mmap\u001b[0m\u001b[1;33m(\u001b[0m\u001b[0mdistinction\u001b[0m\u001b[1;33m,\u001b[0m\u001b[0mmarksdata\u001b[0m\u001b[1;33m)\u001b[0m\u001b[1;33m)\u001b[0m\u001b[1;33m\u001b[0m\u001b[0m\n\u001b[0m\u001b[0;32m     15\u001b[0m \u001b[1;33m\u001b[0m\u001b[0m\n\u001b[0;32m     16\u001b[0m \u001b[0mfailed\u001b[0m\u001b[1;33m=\u001b[0m\u001b[0msum\u001b[0m\u001b[1;33m(\u001b[0m\u001b[1;36m1\u001b[0m \u001b[1;32mfor\u001b[0m \u001b[0mi\u001b[0m \u001b[1;32min\u001b[0m \u001b[0mmarksdata\u001b[0m \u001b[1;32mif\u001b[0m \u001b[0mi\u001b[0m\u001b[1;33m<\u001b[0m\u001b[1;36m40\u001b[0m\u001b[1;33m)\u001b[0m\u001b[1;33m\u001b[0m\u001b[0m\n",
      "\u001b[1;32m<ipython-input-70-db4a391eacdd>\u001b[0m in \u001b[0;36mdistinction\u001b[1;34m(mark)\u001b[0m\n\u001b[0;32m     10\u001b[0m \u001b[1;33m\u001b[0m\u001b[0m\n\u001b[0;32m     11\u001b[0m \u001b[1;32mdef\u001b[0m \u001b[0mdistinction\u001b[0m\u001b[1;33m(\u001b[0m\u001b[0mmark\u001b[0m\u001b[1;33m)\u001b[0m\u001b[1;33m:\u001b[0m\u001b[1;33m\u001b[0m\u001b[0m\n\u001b[1;32m---> 12\u001b[1;33m     \u001b[1;32mreturn\u001b[0m \u001b[0mmark\u001b[0m\u001b[1;33m>=\u001b[0m\u001b[1;36m80\u001b[0m\u001b[1;33m\u001b[0m\u001b[0m\n\u001b[0m\u001b[0;32m     13\u001b[0m \u001b[1;33m\u001b[0m\u001b[0m\n\u001b[0;32m     14\u001b[0m \u001b[0mdis\u001b[0m\u001b[1;33m=\u001b[0m\u001b[0msum\u001b[0m\u001b[1;33m(\u001b[0m\u001b[0mmap\u001b[0m\u001b[1;33m(\u001b[0m\u001b[0mdistinction\u001b[0m\u001b[1;33m,\u001b[0m\u001b[0mmarksdata\u001b[0m\u001b[1;33m)\u001b[0m\u001b[1;33m)\u001b[0m\u001b[1;33m\u001b[0m\u001b[0m\n",
      "\u001b[1;31mTypeError\u001b[0m: '>=' not supported between instances of 'str' and 'int'"
     ]
    }
   ],
   "source": [
    "import re,timeit\n",
    "def gmr(marksfile):\n",
    "    start=timeit.default_timer()\n",
    "    marksdata=readfiledata(marksfile)\n",
    "    marksdata=re.split('r\\n',marksfile)\n",
    "    return marksdata\n",
    "\n",
    "marksdata=gmr('sample.txt')\n",
    "\n",
    "\n",
    "def distinction(mark):\n",
    "    return mark>=80\n",
    "\n",
    "dis=sum(map(distinction,marksdata))\n",
    "\n",
    "failed=sum(1 for i in marksdata if i<40)\n",
    "failed"
   ]
  },
  {
   "cell_type": "code",
   "execution_count": 62,
   "metadata": {},
   "outputs": [
    {
     "data": {
      "text/plain": [
       "'1'"
      ]
     },
     "execution_count": 62,
     "metadata": {},
     "output_type": "execute_result"
    }
   ],
   "source": [
    "def square(n):\n",
    "    return n*n\n",
    "li=[1,2,3,4]\n",
    "#s=str(li)\n",
    "s=list(map(str,li))\n",
    "s[0]\n",
    "#s=list(map(square,li))\n",
    "#s[2]"
   ]
  },
  {
   "cell_type": "code",
   "execution_count": 31,
   "metadata": {},
   "outputs": [
    {
     "data": {
      "text/plain": [
       "16"
      ]
     },
     "execution_count": 31,
     "metadata": {},
     "output_type": "execute_result"
    }
   ],
   "source": [
    "def square(n):\n",
    "    return n*n\n",
    "li=[1,2,3,4]\n",
    "#s=str(li)\n",
    "#s=list(map(str,li))\n",
    "#s[0]\n",
    "s=list(map(square,li))\n",
    "s[3]\n",
    "\n",
    "#s=list(map(str,li))"
   ]
  },
  {
   "cell_type": "code",
   "execution_count": 37,
   "metadata": {},
   "outputs": [
    {
     "data": {
      "text/plain": [
       "[1.0, 2.0, 3.0, 4.0]"
      ]
     },
     "execution_count": 37,
     "metadata": {},
     "output_type": "execute_result"
    }
   ],
   "source": [
    "def square(n):\n",
    "    return n*n\n",
    "li=[1,2,3,4]\n",
    "\n",
    "s=list(map(str,li))\n",
    "s=[float(i) for i in s]\n",
    "s\n"
   ]
  },
  {
   "cell_type": "code",
   "execution_count": 38,
   "metadata": {},
   "outputs": [
    {
     "name": "stdout",
     "output_type": "stream",
     "text": [
      "0.0001608282036613673\n"
     ]
    },
    {
     "data": {
      "text/plain": [
       "[1.0, 2.0, 3.0, 4.0]"
      ]
     },
     "execution_count": 38,
     "metadata": {},
     "output_type": "execute_result"
    }
   ],
   "source": [
    "import timeit\n",
    "def square(n):\n",
    "    return n*n\n",
    "st=timeit.default_timer()\n",
    "li=[1,2,3,4]\n",
    "\n",
    "s=list(map(str,li))\n",
    "s=[float(i) for i in s]\n",
    "print(timeit.default_timer()-st)\n",
    "s\n"
   ]
  },
  {
   "cell_type": "markdown",
   "metadata": {},
   "source": [
    "# External Libraries\n",
    "## Scipy.org(Packages)"
   ]
  },
  {
   "cell_type": "code",
   "execution_count": 75,
   "metadata": {},
   "outputs": [
    {
     "name": "stdout",
     "output_type": "stream",
     "text": [
      "\n",
      " [0 1 2]\n",
      "\n",
      " [5 5 5]\n",
      "MatrixA is\n",
      " [5 6 7]\n",
      "Matrix B Is \n",
      " [5 6 7]\n"
     ]
    }
   ],
   "source": [
    "import numpy as np\n",
    "a=np.array([0,1,2])\n",
    "b=np.array([5,5,5])\n",
    "print(\"\\n\",a)\n",
    "print(\"\\n\",b)\n",
    "print(\"MatrixA is\\n\",a+b)\n",
    "print(\"Matrix B Is \\n\",a+5)\n",
    "    "
   ]
  },
  {
   "cell_type": "markdown",
   "metadata": {},
   "source": [
    "# Create a 3x3 matrix with values ranging from 2 to 10"
   ]
  },
  {
   "cell_type": "code",
   "execution_count": 2,
   "metadata": {},
   "outputs": [
    {
     "name": "stdout",
     "output_type": "stream",
     "text": [
      "[[ 2  3  4]\n",
      " [ 5  6  7]\n",
      " [ 8  9 10]]\n"
     ]
    }
   ],
   "source": [
    "import numpy as np\n",
    "x =  np.arange(2, 11).reshape(3,3)\n",
    "print(x)"
   ]
  },
  {
   "cell_type": "markdown",
   "metadata": {},
   "source": [
    "# Create a null vector of size 10 and update sixth value to 11\n"
   ]
  },
  {
   "cell_type": "code",
   "execution_count": 3,
   "metadata": {},
   "outputs": [
    {
     "name": "stdout",
     "output_type": "stream",
     "text": [
      "[0. 0. 0. 0. 0. 0. 0. 0. 0. 0.]\n",
      "Update sixth value to 11\n",
      "[ 0.  0.  0.  0.  0.  0. 11.  0.  0.  0.]\n"
     ]
    }
   ],
   "source": [
    "import numpy as np\n",
    "x = np.zeros(10)\n",
    "print(x)\n",
    "print(\"Update sixth value to 11\")\n",
    "x[6] = 11\n",
    "print(x)"
   ]
  },
  {
   "cell_type": "markdown",
   "metadata": {},
   "source": [
    "# Get the unique elements of an array"
   ]
  },
  {
   "cell_type": "code",
   "execution_count": 4,
   "metadata": {},
   "outputs": [
    {
     "name": "stdout",
     "output_type": "stream",
     "text": [
      "Original array:\n",
      "[10 10 20 20 30 30]\n",
      "Unique elements of the above array:\n",
      "[10 20 30]\n",
      "Original array:\n",
      "[[1 1]\n",
      " [2 3]]\n",
      "Unique elements of the above array:\n",
      "[1 2 3]\n"
     ]
    }
   ],
   "source": [
    "import numpy as np\n",
    "x = np.array([10, 10, 20, 20, 30, 30])\n",
    "print(\"Original array:\")\n",
    "print(x)\n",
    "print(\"Unique elements of the above array:\")\n",
    "print(np.unique(x))\n",
    "x = np.array([[1, 1], [2, 3]])\n",
    "print(\"Original array:\")\n",
    "print(x)\n",
    "print(\"Unique elements of the above array:\")\n",
    "print(np.unique(x))"
   ]
  },
  {
   "cell_type": "code",
   "execution_count": null,
   "metadata": {},
   "outputs": [],
   "source": []
  }
 ],
 "metadata": {
  "kernelspec": {
   "display_name": "Python 3",
   "language": "python",
   "name": "python3"
  },
  "language_info": {
   "codemirror_mode": {
    "name": "ipython",
    "version": 3
   },
   "file_extension": ".py",
   "mimetype": "text/x-python",
   "name": "python",
   "nbconvert_exporter": "python",
   "pygments_lexer": "ipython3",
   "version": "3.7.3"
  }
 },
 "nbformat": 4,
 "nbformat_minor": 2
}
